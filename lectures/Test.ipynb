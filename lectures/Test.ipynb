{
 "cells": [
  {
   "cell_type": "code",
   "execution_count": 6,
   "id": "ac011f81",
   "metadata": {},
   "outputs": [
    {
     "name": "stdout",
     "output_type": "stream",
     "text": [
      "0.0°C: Frío\n",
      "10.0°C: Frío\n",
      "-10.0°C: Congelación\n",
      "\n",
      "Resumen: Congelación=1, Frío=2, Templado=0, Calor=0\n"
     ]
    }
   ],
   "source": [
    "# Solicitar temperaturas\n",
    "temperaturas = []\n",
    "num_temp = int(input(\"¿Cuántas temperaturas desea clasificar? \"))\n",
    "\n",
    "for i in range(num_temp):\n",
    "    temp = float(input(f\"Temperatura {i+1} (°C): \"))\n",
    "    temperaturas.append(temp)\n",
    "\n",
    "# Contadores para cada categoría\n",
    "congelacion = frio = templado = calor = 0\n",
    "\n",
    "# Clasificar cada temperatura\n",
    "for temp in temperaturas:\n",
    "    if temp < 0:\n",
    "        print(f\"{temp}°C: Congelación\")\n",
    "        congelacion += 1\n",
    "    elif temp <= 25:\n",
    "        print(f\"{temp}°C: Frío\")\n",
    "        frio += 1\n",
    "    elif temp <= 35:\n",
    "        print(f\"{temp}°C: Templado\")\n",
    "        templado += 1\n",
    "    else:\n",
    "        print(f\"{temp}°C: Calor\")\n",
    "        calor += 1\n",
    "\n",
    "# Resumen final\n",
    "print(f\"\\nResumen: Congelación={congelacion}, Frío={frio}, \"\n",
    "      f\"Templado={templado}, Calor={calor}\")"
   ]
  }
 ],
 "metadata": {
  "kernelspec": {
   "display_name": "MLAlgoritmoV",
   "language": "python",
   "name": "python3"
  },
  "language_info": {
   "codemirror_mode": {
    "name": "ipython",
    "version": 3
   },
   "file_extension": ".py",
   "mimetype": "text/x-python",
   "name": "python",
   "nbconvert_exporter": "python",
   "pygments_lexer": "ipython3",
   "version": "3.12.9"
  }
 },
 "nbformat": 4,
 "nbformat_minor": 5
}
